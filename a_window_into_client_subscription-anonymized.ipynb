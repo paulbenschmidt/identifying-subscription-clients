{
 "cells": [
  {
   "cell_type": "markdown",
   "metadata": {},
   "source": [
    "# Window Washing Company: Data Analysis\n",
    "\n",
    "This notebook was built to identify which clients were most likely to upgrade to subscription packages with a window cleaning company in Chicago.\n",
    "\n",
    "The outline for this notebook is as follows:\n",
    "> I. [Loading Data](#section-1) <br /> \n",
    "> II. [Preliminary Analysis](#section-2) <br /> \n",
    "> III. [Modeling](#section-3) <br /> \n",
    "> IV. [Conclusion](#section-4) <br /> "
   ]
  },
  {
   "cell_type": "markdown",
   "metadata": {},
   "source": [
    "<a id='section-1'></a>\n",
    "## I. Loading Data"
   ]
  },
  {
   "cell_type": "code",
   "execution_count": 1,
   "metadata": {},
   "outputs": [],
   "source": [
    "import numpy as np\n",
    "import pandas as pd\n",
    "\n",
    "import matplotlib.pyplot as plt\n",
    "%matplotlib inline\n",
    "import seaborn as sns\n",
    "\n",
    "import geopandas as gpd\n",
    "from shapely.geometry import Point, Polygon\n",
    "\n",
    "from sklearn.cluster import KMeans\n",
    "from sklearn.preprocessing import normalize\n",
    "from sklearn.decomposition import PCA\n",
    "from sklearn.cluster import MiniBatchKMeans\n",
    "\n",
    "from sklearn.metrics.pairwise import cosine_similarity\n",
    "\n",
    "pd.set_option('display.max_columns', None)"
   ]
  },
  {
   "cell_type": "code",
   "execution_count": 2,
   "metadata": {},
   "outputs": [],
   "source": [
    "# Path for datasets\n",
    "path = 'Datasets_09.06.2019/'\n",
    "\n",
    "# Loading data and removing extra rows\n",
    "invoices = pd.read_csv(path+'Invoices Report.csv', \n",
    "                          skiprows=13, \n",
    "                          skipfooter=1, \n",
    "                          engine='python')\n",
    "one_off = pd.read_csv(path+'One off Jobs Report.csv', \n",
    "                          skiprows=11, \n",
    "                          skipfooter=1, \n",
    "                          engine='python')\n",
    "payments = pd.read_csv(path+'Jobber Payments Transaction List.csv', \n",
    "                          skiprows=0, \n",
    "                          skipfooter=1, \n",
    "                          engine='python')\n",
    "properties = pd.read_csv(path+'Client Properties.csv', \n",
    "                          skiprows=0, \n",
    "                          skipfooter=1, \n",
    "                          engine='python')\n",
    "recurring = pd.read_csv(path+'Recurring Jobs Report.csv', \n",
    "                          skiprows=9, \n",
    "                          skipfooter=1, \n",
    "                          engine='python')\n",
    "services = pd.read_csv(path+'Products and Services Report.csv', \n",
    "                          skiprows=0, \n",
    "                          skipfooter=1, \n",
    "                          engine='python')\n",
    "timesheets = pd.read_csv(path+'Timesheets Report.csv', \n",
    "                          skiprows=14, \n",
    "                          skipfooter=1, \n",
    "                          engine='python')\n",
    "transactions = pd.read_csv(path+'Transaction List.csv', \n",
    "                          skiprows=10, \n",
    "                          skipfooter=1, \n",
    "                          engine='python')\n",
    "visits = pd.read_csv(path+'Visits Report.csv', \n",
    "                          skiprows=0, \n",
    "                          skipfooter=1, \n",
    "                          engine='python')"
   ]
  },
  {
   "cell_type": "markdown",
   "metadata": {},
   "source": [
    "Notes on the datasets:\n",
    "1. **invoices**: *detailed account of all invoices*. Relevant features include: client, date, employee assigned to, cost of service, subscription package.\n",
    "2. **one_off**: *record of one-off services*.\n",
    "3. **payments**: *record of client payments*\n",
    "4. **properties**: *detailed account of client addresses*\n",
    "5. **recurring**: *record of recurring services*\n",
    "6. **services**: *record of which services brought in the most revenue*\n",
    "7. **timesheets**: *record of how much time employee spends on assignment*\n",
    "8. **transactions**: *account of client payments*\n",
    "9. **visits**: *most detailed dataset which contains client, location, employee, cleaning type, and cost*"
   ]
  },
  {
   "cell_type": "code",
   "execution_count": 3,
   "metadata": {},
   "outputs": [],
   "source": [
    "def snapshot(data):\n",
    "    '''Creates df with snapshot of original df for cleaning and analysis.'''\n",
    "    preliminary_details = pd.DataFrame()\n",
    "    preliminary_details['Type'] = data.dtypes\n",
    "    preliminary_details['Unique'] = data.nunique()\n",
    "    preliminary_details['NaN'] = data.isnull().sum()\n",
    "    preliminary_details['NaN_%'] = (data.isnull().sum() / len(data)) * 100\n",
    "    return preliminary_details"
   ]
  },
  {
   "cell_type": "markdown",
   "metadata": {},
   "source": [
    "<a id='section-2'></a>\n",
    "## II. Preliminary Analysis"
   ]
  },
  {
   "cell_type": "markdown",
   "metadata": {},
   "source": [
    "### A. Services\n",
    "Identifying:\n",
    "1. which services have brought in greatest revenue collectively \n",
    "2. which individual services bring in greatest revenue."
   ]
  },
  {
   "cell_type": "code",
   "execution_count": 4,
   "metadata": {},
   "outputs": [],
   "source": [
    "# Converting objects to float values\n",
    "services['Invoiced $'] = services['Invoiced $'].str.replace(',','').astype(float)\n",
    "services['Quoted $'] = services['Quoted $'].str.replace(',','').astype(float)\n",
    "services['Jobs $'] = services['Jobs $'].str.replace(',','').astype(float)"
   ]
  },
  {
   "cell_type": "code",
   "execution_count": 5,
   "metadata": {},
   "outputs": [
    {
     "data": {
      "text/html": [
       "<div>\n",
       "<style scoped>\n",
       "    .dataframe tbody tr th:only-of-type {\n",
       "        vertical-align: middle;\n",
       "    }\n",
       "\n",
       "    .dataframe tbody tr th {\n",
       "        vertical-align: top;\n",
       "    }\n",
       "\n",
       "    .dataframe thead th {\n",
       "        text-align: right;\n",
       "    }\n",
       "</style>\n",
       "<table border=\"1\" class=\"dataframe\">\n",
       "  <thead>\n",
       "    <tr style=\"text-align: right;\">\n",
       "      <th></th>\n",
       "      <th>Type</th>\n",
       "      <th>Unique</th>\n",
       "      <th>NaN</th>\n",
       "      <th>NaN_%</th>\n",
       "    </tr>\n",
       "  </thead>\n",
       "  <tbody>\n",
       "    <tr>\n",
       "      <th>Name</th>\n",
       "      <td>object</td>\n",
       "      <td>84</td>\n",
       "      <td>0</td>\n",
       "      <td>0.0</td>\n",
       "    </tr>\n",
       "    <tr>\n",
       "      <th>Quoted qty</th>\n",
       "      <td>int64</td>\n",
       "      <td>12</td>\n",
       "      <td>0</td>\n",
       "      <td>0.0</td>\n",
       "    </tr>\n",
       "    <tr>\n",
       "      <th>Quoted $</th>\n",
       "      <td>float64</td>\n",
       "      <td>38</td>\n",
       "      <td>0</td>\n",
       "      <td>0.0</td>\n",
       "    </tr>\n",
       "    <tr>\n",
       "      <th>Jobs qty</th>\n",
       "      <td>int64</td>\n",
       "      <td>25</td>\n",
       "      <td>0</td>\n",
       "      <td>0.0</td>\n",
       "    </tr>\n",
       "    <tr>\n",
       "      <th>Jobs $</th>\n",
       "      <td>float64</td>\n",
       "      <td>52</td>\n",
       "      <td>0</td>\n",
       "      <td>0.0</td>\n",
       "    </tr>\n",
       "    <tr>\n",
       "      <th>Invoiced qty</th>\n",
       "      <td>int64</td>\n",
       "      <td>32</td>\n",
       "      <td>0</td>\n",
       "      <td>0.0</td>\n",
       "    </tr>\n",
       "    <tr>\n",
       "      <th>Invoiced $</th>\n",
       "      <td>float64</td>\n",
       "      <td>61</td>\n",
       "      <td>0</td>\n",
       "      <td>0.0</td>\n",
       "    </tr>\n",
       "  </tbody>\n",
       "</table>\n",
       "</div>"
      ],
      "text/plain": [
       "                 Type  Unique  NaN  NaN_%\n",
       "Name           object      84    0    0.0\n",
       "Quoted qty      int64      12    0    0.0\n",
       "Quoted $      float64      38    0    0.0\n",
       "Jobs qty        int64      25    0    0.0\n",
       "Jobs $        float64      52    0    0.0\n",
       "Invoiced qty    int64      32    0    0.0\n",
       "Invoiced $    float64      61    0    0.0"
      ]
     },
     "execution_count": 5,
     "metadata": {},
     "output_type": "execute_result"
    }
   ],
   "source": [
    "# Previewing characteristics of df\n",
    "snapshot(services)"
   ]
  },
  {
   "cell_type": "code",
   "execution_count": 6,
   "metadata": {},
   "outputs": [
    {
     "data": {
      "text/html": [
       "<div>\n",
       "<style scoped>\n",
       "    .dataframe tbody tr th:only-of-type {\n",
       "        vertical-align: middle;\n",
       "    }\n",
       "\n",
       "    .dataframe tbody tr th {\n",
       "        vertical-align: top;\n",
       "    }\n",
       "\n",
       "    .dataframe thead th {\n",
       "        text-align: right;\n",
       "    }\n",
       "</style>\n",
       "<table border=\"1\" class=\"dataframe\">\n",
       "  <thead>\n",
       "    <tr style=\"text-align: right;\">\n",
       "      <th></th>\n",
       "      <th>Name</th>\n",
       "      <th>Quoted qty</th>\n",
       "      <th>Quoted $</th>\n",
       "      <th>Jobs qty</th>\n",
       "      <th>Jobs $</th>\n",
       "      <th>Invoiced qty</th>\n",
       "      <th>Invoiced $</th>\n",
       "    </tr>\n",
       "  </thead>\n",
       "  <tbody>\n",
       "    <tr>\n",
       "      <th>0</th>\n",
       "      <td>Anti-graffiti Window Film Installation</td>\n",
       "      <td>62</td>\n",
       "      <td>33583.0</td>\n",
       "      <td>20</td>\n",
       "      <td>16751.50</td>\n",
       "      <td>19</td>\n",
       "      <td>16472.75</td>\n",
       "    </tr>\n",
       "    <tr>\n",
       "      <th>7</th>\n",
       "      <td>CLEAN Subscription</td>\n",
       "      <td>12</td>\n",
       "      <td>313.0</td>\n",
       "      <td>182</td>\n",
       "      <td>6941.50</td>\n",
       "      <td>1553</td>\n",
       "      <td>56766.00</td>\n",
       "    </tr>\n",
       "    <tr>\n",
       "      <th>79</th>\n",
       "      <td>VERY CLEAN Subscription</td>\n",
       "      <td>19</td>\n",
       "      <td>655.0</td>\n",
       "      <td>212</td>\n",
       "      <td>5973.74</td>\n",
       "      <td>3685</td>\n",
       "      <td>91503.22</td>\n",
       "    </tr>\n",
       "    <tr>\n",
       "      <th>55</th>\n",
       "      <td>PLUS Subscription</td>\n",
       "      <td>2</td>\n",
       "      <td>46.0</td>\n",
       "      <td>155</td>\n",
       "      <td>3926.75</td>\n",
       "      <td>1506</td>\n",
       "      <td>29515.29</td>\n",
       "    </tr>\n",
       "    <tr>\n",
       "      <th>13</th>\n",
       "      <td>CUSTOM Subscription</td>\n",
       "      <td>1</td>\n",
       "      <td>148.0</td>\n",
       "      <td>51</td>\n",
       "      <td>3881.00</td>\n",
       "      <td>453</td>\n",
       "      <td>25583.25</td>\n",
       "    </tr>\n",
       "    <tr>\n",
       "      <th>33</th>\n",
       "      <td>Exterior Window Cleaning</td>\n",
       "      <td>14</td>\n",
       "      <td>1703.0</td>\n",
       "      <td>58</td>\n",
       "      <td>3626.50</td>\n",
       "      <td>298</td>\n",
       "      <td>12704.50</td>\n",
       "    </tr>\n",
       "    <tr>\n",
       "      <th>52</th>\n",
       "      <td>On Demand Window Cleaning</td>\n",
       "      <td>2</td>\n",
       "      <td>160.0</td>\n",
       "      <td>12</td>\n",
       "      <td>3585.00</td>\n",
       "      <td>9</td>\n",
       "      <td>3185.00</td>\n",
       "    </tr>\n",
       "    <tr>\n",
       "      <th>5</th>\n",
       "      <td>CLEAN+</td>\n",
       "      <td>3</td>\n",
       "      <td>122.0</td>\n",
       "      <td>83</td>\n",
       "      <td>3288.60</td>\n",
       "      <td>527</td>\n",
       "      <td>18353.20</td>\n",
       "    </tr>\n",
       "    <tr>\n",
       "      <th>78</th>\n",
       "      <td>VERY CLEAN++</td>\n",
       "      <td>1</td>\n",
       "      <td>140.0</td>\n",
       "      <td>65</td>\n",
       "      <td>2899.50</td>\n",
       "      <td>887</td>\n",
       "      <td>27782.50</td>\n",
       "    </tr>\n",
       "    <tr>\n",
       "      <th>47</th>\n",
       "      <td>Interior Window Cleaning</td>\n",
       "      <td>10</td>\n",
       "      <td>698.0</td>\n",
       "      <td>71</td>\n",
       "      <td>2623.64</td>\n",
       "      <td>124</td>\n",
       "      <td>5312.50</td>\n",
       "    </tr>\n",
       "  </tbody>\n",
       "</table>\n",
       "</div>"
      ],
      "text/plain": [
       "                                      Name  Quoted qty  Quoted $  Jobs qty  \\\n",
       "0   Anti-graffiti Window Film Installation          62   33583.0        20   \n",
       "7                       CLEAN Subscription          12     313.0       182   \n",
       "79                 VERY CLEAN Subscription          19     655.0       212   \n",
       "55                       PLUS Subscription           2      46.0       155   \n",
       "13                     CUSTOM Subscription           1     148.0        51   \n",
       "33                Exterior Window Cleaning          14    1703.0        58   \n",
       "52               On Demand Window Cleaning           2     160.0        12   \n",
       "5                                   CLEAN+           3     122.0        83   \n",
       "78                            VERY CLEAN++           1     140.0        65   \n",
       "47                Interior Window Cleaning          10     698.0        71   \n",
       "\n",
       "      Jobs $  Invoiced qty  Invoiced $  \n",
       "0   16751.50            19    16472.75  \n",
       "7    6941.50          1553    56766.00  \n",
       "79   5973.74          3685    91503.22  \n",
       "55   3926.75          1506    29515.29  \n",
       "13   3881.00           453    25583.25  \n",
       "33   3626.50           298    12704.50  \n",
       "52   3585.00             9     3185.00  \n",
       "5    3288.60           527    18353.20  \n",
       "78   2899.50           887    27782.50  \n",
       "47   2623.64           124     5312.50  "
      ]
     },
     "execution_count": 6,
     "metadata": {},
     "output_type": "execute_result"
    }
   ],
   "source": [
    "# Identifying services that yield greatest revenue\n",
    "services.sort_values(by='Jobs $', ascending=False).head(10)"
   ]
  },
  {
   "cell_type": "code",
   "execution_count": 7,
   "metadata": {},
   "outputs": [
    {
     "data": {
      "text/html": [
       "<div>\n",
       "<style scoped>\n",
       "    .dataframe tbody tr th:only-of-type {\n",
       "        vertical-align: middle;\n",
       "    }\n",
       "\n",
       "    .dataframe tbody tr th {\n",
       "        vertical-align: top;\n",
       "    }\n",
       "\n",
       "    .dataframe thead th {\n",
       "        text-align: right;\n",
       "    }\n",
       "</style>\n",
       "<table border=\"1\" class=\"dataframe\">\n",
       "  <thead>\n",
       "    <tr style=\"text-align: right;\">\n",
       "      <th></th>\n",
       "      <th>Name</th>\n",
       "      <th>Quoted qty</th>\n",
       "      <th>Quoted $</th>\n",
       "      <th>Jobs qty</th>\n",
       "      <th>Jobs $</th>\n",
       "      <th>Invoiced qty</th>\n",
       "      <th>Invoiced $</th>\n",
       "    </tr>\n",
       "  </thead>\n",
       "  <tbody>\n",
       "    <tr>\n",
       "      <th>0</th>\n",
       "      <td>Anti-graffiti Window Film Installation</td>\n",
       "      <td>62</td>\n",
       "      <td>33583.0</td>\n",
       "      <td>20</td>\n",
       "      <td>16751.50</td>\n",
       "      <td>19</td>\n",
       "      <td>16472.75</td>\n",
       "    </tr>\n",
       "    <tr>\n",
       "      <th>56</th>\n",
       "      <td>Privacy Window Film</td>\n",
       "      <td>1</td>\n",
       "      <td>4159.0</td>\n",
       "      <td>0</td>\n",
       "      <td>0.00</td>\n",
       "      <td>0</td>\n",
       "      <td>0.00</td>\n",
       "    </tr>\n",
       "    <tr>\n",
       "      <th>33</th>\n",
       "      <td>Exterior Window Cleaning</td>\n",
       "      <td>14</td>\n",
       "      <td>1703.0</td>\n",
       "      <td>58</td>\n",
       "      <td>3626.50</td>\n",
       "      <td>298</td>\n",
       "      <td>12704.50</td>\n",
       "    </tr>\n",
       "    <tr>\n",
       "      <th>30</th>\n",
       "      <td>Exterior/Interior Window Cleaning</td>\n",
       "      <td>1</td>\n",
       "      <td>1500.0</td>\n",
       "      <td>10</td>\n",
       "      <td>2381.00</td>\n",
       "      <td>17</td>\n",
       "      <td>3147.00</td>\n",
       "    </tr>\n",
       "    <tr>\n",
       "      <th>82</th>\n",
       "      <td>Window Film Removal</td>\n",
       "      <td>23</td>\n",
       "      <td>1444.0</td>\n",
       "      <td>13</td>\n",
       "      <td>727.00</td>\n",
       "      <td>21</td>\n",
       "      <td>1103.00</td>\n",
       "    </tr>\n",
       "    <tr>\n",
       "      <th>43</th>\n",
       "      <td>Graffiti Removal</td>\n",
       "      <td>1</td>\n",
       "      <td>1200.0</td>\n",
       "      <td>0</td>\n",
       "      <td>0.00</td>\n",
       "      <td>0</td>\n",
       "      <td>0.00</td>\n",
       "    </tr>\n",
       "    <tr>\n",
       "      <th>65</th>\n",
       "      <td>Security Window Film Installation</td>\n",
       "      <td>5</td>\n",
       "      <td>1146.0</td>\n",
       "      <td>3</td>\n",
       "      <td>441.00</td>\n",
       "      <td>3</td>\n",
       "      <td>441.00</td>\n",
       "    </tr>\n",
       "    <tr>\n",
       "      <th>67</th>\n",
       "      <td>Solar Window Film Installation</td>\n",
       "      <td>5</td>\n",
       "      <td>840.0</td>\n",
       "      <td>12</td>\n",
       "      <td>420.00</td>\n",
       "      <td>6</td>\n",
       "      <td>1107.00</td>\n",
       "    </tr>\n",
       "    <tr>\n",
       "      <th>47</th>\n",
       "      <td>Interior Window Cleaning</td>\n",
       "      <td>10</td>\n",
       "      <td>698.0</td>\n",
       "      <td>71</td>\n",
       "      <td>2623.64</td>\n",
       "      <td>124</td>\n",
       "      <td>5312.50</td>\n",
       "    </tr>\n",
       "    <tr>\n",
       "      <th>79</th>\n",
       "      <td>VERY CLEAN Subscription</td>\n",
       "      <td>19</td>\n",
       "      <td>655.0</td>\n",
       "      <td>212</td>\n",
       "      <td>5973.74</td>\n",
       "      <td>3685</td>\n",
       "      <td>91503.22</td>\n",
       "    </tr>\n",
       "  </tbody>\n",
       "</table>\n",
       "</div>"
      ],
      "text/plain": [
       "                                      Name  Quoted qty  Quoted $  Jobs qty  \\\n",
       "0   Anti-graffiti Window Film Installation          62   33583.0        20   \n",
       "56                     Privacy Window Film           1    4159.0         0   \n",
       "33                Exterior Window Cleaning          14    1703.0        58   \n",
       "30       Exterior/Interior Window Cleaning           1    1500.0        10   \n",
       "82                     Window Film Removal          23    1444.0        13   \n",
       "43                        Graffiti Removal           1    1200.0         0   \n",
       "65       Security Window Film Installation           5    1146.0         3   \n",
       "67          Solar Window Film Installation           5     840.0        12   \n",
       "47                Interior Window Cleaning          10     698.0        71   \n",
       "79                 VERY CLEAN Subscription          19     655.0       212   \n",
       "\n",
       "      Jobs $  Invoiced qty  Invoiced $  \n",
       "0   16751.50            19    16472.75  \n",
       "56      0.00             0        0.00  \n",
       "33   3626.50           298    12704.50  \n",
       "30   2381.00            17     3147.00  \n",
       "82    727.00            21     1103.00  \n",
       "43      0.00             0        0.00  \n",
       "65    441.00             3      441.00  \n",
       "67    420.00             6     1107.00  \n",
       "47   2623.64           124     5312.50  \n",
       "79   5973.74          3685    91503.22  "
      ]
     },
     "execution_count": 7,
     "metadata": {},
     "output_type": "execute_result"
    }
   ],
   "source": [
    "# Identifying services that yield greatest revenue\n",
    "services.sort_values(by='Quoted $', ascending=False).head(10)"
   ]
  },
  {
   "cell_type": "markdown",
   "metadata": {},
   "source": [
    "### B. Timesheets\n",
    "Identifying:\n",
    "1. Efficiency in workers"
   ]
  },
  {
   "cell_type": "code",
   "execution_count": 8,
   "metadata": {},
   "outputs": [],
   "source": [
    "# Removing rows not associated with recorded job (i.e. general, commute, etc.)\n",
    "bool_jobs = ['Job' in record for record in timesheets['Working on']]\n",
    "only_jobs = timesheets[bool_jobs]"
   ]
  },
  {
   "cell_type": "code",
   "execution_count": 9,
   "metadata": {},
   "outputs": [
    {
     "data": {
      "text/html": [
       "<style  type=\"text/css\" >\n",
       "</style><table id=\"T_2d28cd62_ee98_11e9_a7c0_983b8f8b8dbd\" ><thead>    <tr>        <th class=\"col_heading level0 col0\" >days_worked</th>        <th class=\"col_heading level0 col1\" >jobs_completed</th>        <th class=\"col_heading level0 col2\" >jobs_per_day</th>    </tr></thead><tbody>\n",
       "                <tr>\n",
       "                                <td id=\"T_2d28cd62_ee98_11e9_a7c0_983b8f8b8dbdrow0_col0\" class=\"data row0 col0\" >26</td>\n",
       "                        <td id=\"T_2d28cd62_ee98_11e9_a7c0_983b8f8b8dbdrow0_col1\" class=\"data row0 col1\" >208</td>\n",
       "                        <td id=\"T_2d28cd62_ee98_11e9_a7c0_983b8f8b8dbdrow0_col2\" class=\"data row0 col2\" >8</td>\n",
       "            </tr>\n",
       "            <tr>\n",
       "                                <td id=\"T_2d28cd62_ee98_11e9_a7c0_983b8f8b8dbdrow1_col0\" class=\"data row1 col0\" >9</td>\n",
       "                        <td id=\"T_2d28cd62_ee98_11e9_a7c0_983b8f8b8dbdrow1_col1\" class=\"data row1 col1\" >63</td>\n",
       "                        <td id=\"T_2d28cd62_ee98_11e9_a7c0_983b8f8b8dbdrow1_col2\" class=\"data row1 col2\" >7</td>\n",
       "            </tr>\n",
       "            <tr>\n",
       "                                <td id=\"T_2d28cd62_ee98_11e9_a7c0_983b8f8b8dbdrow2_col0\" class=\"data row2 col0\" >234</td>\n",
       "                        <td id=\"T_2d28cd62_ee98_11e9_a7c0_983b8f8b8dbdrow2_col1\" class=\"data row2 col1\" >3072</td>\n",
       "                        <td id=\"T_2d28cd62_ee98_11e9_a7c0_983b8f8b8dbdrow2_col2\" class=\"data row2 col2\" >13.1282</td>\n",
       "            </tr>\n",
       "            <tr>\n",
       "                                <td id=\"T_2d28cd62_ee98_11e9_a7c0_983b8f8b8dbdrow3_col0\" class=\"data row3 col0\" >62</td>\n",
       "                        <td id=\"T_2d28cd62_ee98_11e9_a7c0_983b8f8b8dbdrow3_col1\" class=\"data row3 col1\" >867</td>\n",
       "                        <td id=\"T_2d28cd62_ee98_11e9_a7c0_983b8f8b8dbdrow3_col2\" class=\"data row3 col2\" >13.9839</td>\n",
       "            </tr>\n",
       "            <tr>\n",
       "                                <td id=\"T_2d28cd62_ee98_11e9_a7c0_983b8f8b8dbdrow4_col0\" class=\"data row4 col0\" >46</td>\n",
       "                        <td id=\"T_2d28cd62_ee98_11e9_a7c0_983b8f8b8dbdrow4_col1\" class=\"data row4 col1\" >338</td>\n",
       "                        <td id=\"T_2d28cd62_ee98_11e9_a7c0_983b8f8b8dbdrow4_col2\" class=\"data row4 col2\" >7.34783</td>\n",
       "            </tr>\n",
       "            <tr>\n",
       "                                <td id=\"T_2d28cd62_ee98_11e9_a7c0_983b8f8b8dbdrow5_col0\" class=\"data row5 col0\" >16</td>\n",
       "                        <td id=\"T_2d28cd62_ee98_11e9_a7c0_983b8f8b8dbdrow5_col1\" class=\"data row5 col1\" >93</td>\n",
       "                        <td id=\"T_2d28cd62_ee98_11e9_a7c0_983b8f8b8dbdrow5_col2\" class=\"data row5 col2\" >5.8125</td>\n",
       "            </tr>\n",
       "            <tr>\n",
       "                                <td id=\"T_2d28cd62_ee98_11e9_a7c0_983b8f8b8dbdrow6_col0\" class=\"data row6 col0\" >25</td>\n",
       "                        <td id=\"T_2d28cd62_ee98_11e9_a7c0_983b8f8b8dbdrow6_col1\" class=\"data row6 col1\" >181</td>\n",
       "                        <td id=\"T_2d28cd62_ee98_11e9_a7c0_983b8f8b8dbdrow6_col2\" class=\"data row6 col2\" >7.24</td>\n",
       "            </tr>\n",
       "            <tr>\n",
       "                                <td id=\"T_2d28cd62_ee98_11e9_a7c0_983b8f8b8dbdrow7_col0\" class=\"data row7 col0\" >66</td>\n",
       "                        <td id=\"T_2d28cd62_ee98_11e9_a7c0_983b8f8b8dbdrow7_col1\" class=\"data row7 col1\" >534</td>\n",
       "                        <td id=\"T_2d28cd62_ee98_11e9_a7c0_983b8f8b8dbdrow7_col2\" class=\"data row7 col2\" >8.09091</td>\n",
       "            </tr>\n",
       "            <tr>\n",
       "                                <td id=\"T_2d28cd62_ee98_11e9_a7c0_983b8f8b8dbdrow8_col0\" class=\"data row8 col0\" >46</td>\n",
       "                        <td id=\"T_2d28cd62_ee98_11e9_a7c0_983b8f8b8dbdrow8_col1\" class=\"data row8 col1\" >296</td>\n",
       "                        <td id=\"T_2d28cd62_ee98_11e9_a7c0_983b8f8b8dbdrow8_col2\" class=\"data row8 col2\" >6.43478</td>\n",
       "            </tr>\n",
       "            <tr>\n",
       "                                <td id=\"T_2d28cd62_ee98_11e9_a7c0_983b8f8b8dbdrow9_col0\" class=\"data row9 col0\" >74</td>\n",
       "                        <td id=\"T_2d28cd62_ee98_11e9_a7c0_983b8f8b8dbdrow9_col1\" class=\"data row9 col1\" >818</td>\n",
       "                        <td id=\"T_2d28cd62_ee98_11e9_a7c0_983b8f8b8dbdrow9_col2\" class=\"data row9 col2\" >11.0541</td>\n",
       "            </tr>\n",
       "            <tr>\n",
       "                                <td id=\"T_2d28cd62_ee98_11e9_a7c0_983b8f8b8dbdrow10_col0\" class=\"data row10 col0\" >3</td>\n",
       "                        <td id=\"T_2d28cd62_ee98_11e9_a7c0_983b8f8b8dbdrow10_col1\" class=\"data row10 col1\" >3</td>\n",
       "                        <td id=\"T_2d28cd62_ee98_11e9_a7c0_983b8f8b8dbdrow10_col2\" class=\"data row10 col2\" >1</td>\n",
       "            </tr>\n",
       "            <tr>\n",
       "                                <td id=\"T_2d28cd62_ee98_11e9_a7c0_983b8f8b8dbdrow11_col0\" class=\"data row11 col0\" >1</td>\n",
       "                        <td id=\"T_2d28cd62_ee98_11e9_a7c0_983b8f8b8dbdrow11_col1\" class=\"data row11 col1\" >14</td>\n",
       "                        <td id=\"T_2d28cd62_ee98_11e9_a7c0_983b8f8b8dbdrow11_col2\" class=\"data row11 col2\" >14</td>\n",
       "            </tr>\n",
       "            <tr>\n",
       "                                <td id=\"T_2d28cd62_ee98_11e9_a7c0_983b8f8b8dbdrow12_col0\" class=\"data row12 col0\" >146</td>\n",
       "                        <td id=\"T_2d28cd62_ee98_11e9_a7c0_983b8f8b8dbdrow12_col1\" class=\"data row12 col1\" >1592</td>\n",
       "                        <td id=\"T_2d28cd62_ee98_11e9_a7c0_983b8f8b8dbdrow12_col2\" class=\"data row12 col2\" >10.9041</td>\n",
       "            </tr>\n",
       "            <tr>\n",
       "                                <td id=\"T_2d28cd62_ee98_11e9_a7c0_983b8f8b8dbdrow13_col0\" class=\"data row13 col0\" >11</td>\n",
       "                        <td id=\"T_2d28cd62_ee98_11e9_a7c0_983b8f8b8dbdrow13_col1\" class=\"data row13 col1\" >16</td>\n",
       "                        <td id=\"T_2d28cd62_ee98_11e9_a7c0_983b8f8b8dbdrow13_col2\" class=\"data row13 col2\" >1.45455</td>\n",
       "            </tr>\n",
       "            <tr>\n",
       "                                <td id=\"T_2d28cd62_ee98_11e9_a7c0_983b8f8b8dbdrow14_col0\" class=\"data row14 col0\" >172</td>\n",
       "                        <td id=\"T_2d28cd62_ee98_11e9_a7c0_983b8f8b8dbdrow14_col1\" class=\"data row14 col1\" >1369</td>\n",
       "                        <td id=\"T_2d28cd62_ee98_11e9_a7c0_983b8f8b8dbdrow14_col2\" class=\"data row14 col2\" >7.9593</td>\n",
       "            </tr>\n",
       "            <tr>\n",
       "                                <td id=\"T_2d28cd62_ee98_11e9_a7c0_983b8f8b8dbdrow15_col0\" class=\"data row15 col0\" >32</td>\n",
       "                        <td id=\"T_2d28cd62_ee98_11e9_a7c0_983b8f8b8dbdrow15_col1\" class=\"data row15 col1\" >301</td>\n",
       "                        <td id=\"T_2d28cd62_ee98_11e9_a7c0_983b8f8b8dbdrow15_col2\" class=\"data row15 col2\" >9.40625</td>\n",
       "            </tr>\n",
       "    </tbody></table>"
      ],
      "text/plain": [
       "<pandas.io.formats.style.Styler at 0x27fb1c58a20>"
      ]
     },
     "execution_count": 9,
     "metadata": {},
     "output_type": "execute_result"
    }
   ],
   "source": [
    "# Grouping by date and employee\n",
    "counts_per_day = only_jobs.groupby(['Date', 'Name']).count()\n",
    "\n",
    "# Calculating days worked and daily jobs completed per employee\n",
    "days_worked = counts_per_day.groupby('Name')['Start time'].count()\n",
    "jobs_completed = counts_per_day.groupby('Name')['Working on'].sum()\n",
    "\n",
    "# Initializing DataFrame\n",
    "per_employee = pd.DataFrame({'days_worked': days_worked})\n",
    "per_employee['jobs_completed'] = jobs_completed\n",
    "per_employee['jobs_per_day'] = jobs_completed / days_worked\n",
    "\n",
    "# Previewing (hiding index for anonymity)\n",
    "per_employee.style.hide_index()"
   ]
  },
  {
   "cell_type": "markdown",
   "metadata": {},
   "source": [
    "### C. Properties\n",
    "Using [Geocodio](https://www.geocod.io), we are able to extract latitude and longitude from the created concatenated properties file in the folder. This is appended to the properties dataframe.\n",
    "\n",
    "Identifying:\n",
    "1. Geolocation of client properties"
   ]
  },
  {
   "cell_type": "code",
   "execution_count": 10,
   "metadata": {},
   "outputs": [],
   "source": [
    "geo_loc = pd.read_csv(path+'concat_locations_geocodio.csv', \n",
    "                          skiprows=0, \n",
    "                          skipfooter=0,\n",
    "                          engine='python')"
   ]
  },
  {
   "cell_type": "code",
   "execution_count": 11,
   "metadata": {},
   "outputs": [],
   "source": [
    "properties_geo = pd.concat([properties, geo_loc[['Latitude','Longitude','Accuracy Score']]], axis=1, sort=False)"
   ]
  },
  {
   "cell_type": "code",
   "execution_count": 12,
   "metadata": {},
   "outputs": [],
   "source": [
    "# ['Resolt','Brandnetizen'] in properties_geo\n",
    "foo = [name not in ['Resolt','Brandnetizen','Company Name'] for name in properties_geo.Name]\n",
    "properties_geo = properties_geo[foo]"
   ]
  },
  {
   "cell_type": "code",
   "execution_count": 13,
   "metadata": {},
   "outputs": [],
   "source": [
    "# Loading shapefile of Chicago\n",
    "file = 'geo_export_9b5fc045-421f-4420-855e-1ce5074ac72b.shp'\n",
    "chicago_map = gpd.read_file(file)"
   ]
  },
  {
   "cell_type": "code",
   "execution_count": 14,
   "metadata": {},
   "outputs": [],
   "source": [
    "# Creating GeoPanda specific feature with geo-data\n",
    "geometry = [Point(xy) \n",
    "            for xy \n",
    "            in zip(properties_geo.Longitude, properties_geo.Latitude)\n",
    "           ]\n",
    "\n",
    "# Specifying GeoPanda CRS (tells Python how coordinates relate to Earth)\n",
    "crs = {'init':'epsg:4326'}\n",
    "\n",
    "# Populating GeoPanda df\n",
    "geo_df = gpd.GeoDataFrame(properties_geo, #specify data\n",
    "                         crs = crs, # specify coordinate reference system\n",
    "                         geometry = geometry #specify geometry list\n",
    "                         ) "
   ]
  },
  {
   "cell_type": "code",
   "execution_count": 15,
   "metadata": {},
   "outputs": [
    {
     "data": {
      "image/png": "[encoded data removed]",
      "text/plain": [
       "<Figure size 1080x1080 with 1 Axes>"
      ]
     },
     "metadata": {
      "needs_background": "light"
     },
     "output_type": "display_data"
    }
   ],
   "source": [
    "# Plotting map\n",
    "fig, ax = plt.subplots(figsize=(15,15))\n",
    "chicago_map.plot(ax=ax, alpha=0.8, color='grey')\n",
    "\n",
    "# Plotting arrests and non-arrests on map\n",
    "geo_df.plot(ax=ax, \n",
    "            markersize=10, \n",
    "            color='blue', \n",
    "            marker='o', \n",
    "            alpha=.5, \n",
    "            label='Property'\n",
    "           )\n",
    "\n",
    "plt.legend(prop={'size':15})\n",
    "plt.title('Client Properties for Urban Street')\n",
    "plt.show()"
   ]
  },
  {
   "cell_type": "markdown",
   "metadata": {},
   "source": [
    "### 4. Invoices\n",
    "\n",
    "Identifying:\n",
    "1. Greatest revenue sources"
   ]
  },
  {
   "cell_type": "code",
   "execution_count": 16,
   "metadata": {},
   "outputs": [],
   "source": [
    "invoices['Total $'] = invoices['Total $'].replace('[\\$,]', '', regex=True).astype(float)\n",
    "invoices['Balance $'] = invoices['Balance $'].replace('[\\$,]', '', regex=True).astype(float)"
   ]
  },
  {
   "cell_type": "code",
   "execution_count": 17,
   "metadata": {},
   "outputs": [
    {
     "data": {
      "text/html": [
       "<div>\n",
       "<style scoped>\n",
       "    .dataframe tbody tr th:only-of-type {\n",
       "        vertical-align: middle;\n",
       "    }\n",
       "\n",
       "    .dataframe tbody tr th {\n",
       "        vertical-align: top;\n",
       "    }\n",
       "\n",
       "    .dataframe thead th {\n",
       "        text-align: right;\n",
       "    }\n",
       "</style>\n",
       "<table border=\"1\" class=\"dataframe\">\n",
       "  <thead>\n",
       "    <tr style=\"text-align: right;\">\n",
       "      <th></th>\n",
       "      <th>mean</th>\n",
       "      <th>count</th>\n",
       "    </tr>\n",
       "    <tr>\n",
       "      <th>Subscription Package</th>\n",
       "      <th></th>\n",
       "      <th></th>\n",
       "    </tr>\n",
       "  </thead>\n",
       "  <tbody>\n",
       "    <tr>\n",
       "      <th>- Select -</th>\n",
       "      <td>105.647173</td>\n",
       "      <td>711</td>\n",
       "    </tr>\n",
       "    <tr>\n",
       "      <th>QUARTERLY CLEAN +</th>\n",
       "      <td>83.846154</td>\n",
       "      <td>26</td>\n",
       "    </tr>\n",
       "    <tr>\n",
       "      <th>SUPER CLEAN ++++</th>\n",
       "      <td>59.192599</td>\n",
       "      <td>685</td>\n",
       "    </tr>\n",
       "    <tr>\n",
       "      <th>VERY CLEAN ++</th>\n",
       "      <td>48.789133</td>\n",
       "      <td>888</td>\n",
       "    </tr>\n",
       "    <tr>\n",
       "      <th>CLEAN +</th>\n",
       "      <td>48.641197</td>\n",
       "      <td>568</td>\n",
       "    </tr>\n",
       "    <tr>\n",
       "      <th>QUARTERLY CLEAN</th>\n",
       "      <td>46.000000</td>\n",
       "      <td>8</td>\n",
       "    </tr>\n",
       "    <tr>\n",
       "      <th>VERY CLEAN +</th>\n",
       "      <td>45.687348</td>\n",
       "      <td>1678</td>\n",
       "    </tr>\n",
       "    <tr>\n",
       "      <th>CLEAN</th>\n",
       "      <td>39.230545</td>\n",
       "      <td>1339</td>\n",
       "    </tr>\n",
       "    <tr>\n",
       "      <th>SUPER CLEAN +</th>\n",
       "      <td>38.191940</td>\n",
       "      <td>1557</td>\n",
       "    </tr>\n",
       "    <tr>\n",
       "      <th>SUPER CLEAN ++</th>\n",
       "      <td>36.862067</td>\n",
       "      <td>179</td>\n",
       "    </tr>\n",
       "    <tr>\n",
       "      <th>SUPER CLEAN</th>\n",
       "      <td>32.723144</td>\n",
       "      <td>916</td>\n",
       "    </tr>\n",
       "    <tr>\n",
       "      <th>VERY CLEAN</th>\n",
       "      <td>29.883189</td>\n",
       "      <td>1571</td>\n",
       "    </tr>\n",
       "  </tbody>\n",
       "</table>\n",
       "</div>"
      ],
      "text/plain": [
       "                            mean  count\n",
       "Subscription Package                   \n",
       "- Select -            105.647173    711\n",
       "QUARTERLY CLEAN +      83.846154     26\n",
       "SUPER CLEAN ++++       59.192599    685\n",
       "VERY CLEAN ++          48.789133    888\n",
       "CLEAN +                48.641197    568\n",
       "QUARTERLY CLEAN        46.000000      8\n",
       "VERY CLEAN +           45.687348   1678\n",
       "CLEAN                  39.230545   1339\n",
       "SUPER CLEAN +          38.191940   1557\n",
       "SUPER CLEAN ++         36.862067    179\n",
       "SUPER CLEAN            32.723144    916\n",
       "VERY CLEAN             29.883189   1571"
      ]
     },
     "execution_count": 17,
     "metadata": {},
     "output_type": "execute_result"
    }
   ],
   "source": [
    "foo = invoices.groupby('Subscription Package')['Total $'].agg(['mean','count'])\n",
    "foo.sort_values('mean', ascending=False)"
   ]
  },
  {
   "cell_type": "markdown",
   "metadata": {},
   "source": [
    "### 5. Payments\n",
    "Identifying:\n",
    "1. Highest revenue-generating clients"
   ]
  },
  {
   "cell_type": "code",
   "execution_count": 18,
   "metadata": {},
   "outputs": [],
   "source": [
    "payments['Total $'] = payments['Total $'].str.replace(',','').astype(float)"
   ]
  },
  {
   "cell_type": "code",
   "execution_count": 19,
   "metadata": {},
   "outputs": [
    {
     "data": {
      "text/html": [
       "<style  type=\"text/css\" >\n",
       "</style><table id=\"T_2de867da_ee98_11e9_ae67_983b8f8b8dbd\" ><thead>    <tr>        <th class=\"col_heading level0 col0\" >Total $</th>        <th class=\"col_heading level0 col1\" >Fee $</th>        <th class=\"col_heading level0 col2\" >Card ending #</th>        <th class=\"col_heading level0 col3\" >Invoice #</th>        <th class=\"col_heading level0 col4\" >Quote #</th>    </tr></thead><tbody>\n",
       "                <tr>\n",
       "                                <td id=\"T_2de867da_ee98_11e9_ae67_983b8f8b8dbdrow0_col0\" class=\"data row0 col0\" >-9356</td>\n",
       "                        <td id=\"T_2de867da_ee98_11e9_ae67_983b8f8b8dbdrow0_col1\" class=\"data row0 col1\" >272.53</td>\n",
       "                        <td id=\"T_2de867da_ee98_11e9_ae67_983b8f8b8dbdrow0_col2\" class=\"data row0 col2\" >20440</td>\n",
       "                        <td id=\"T_2de867da_ee98_11e9_ae67_983b8f8b8dbdrow0_col3\" class=\"data row0 col3\" >38328</td>\n",
       "                        <td id=\"T_2de867da_ee98_11e9_ae67_983b8f8b8dbdrow0_col4\" class=\"data row0 col4\" >0</td>\n",
       "            </tr>\n",
       "            <tr>\n",
       "                                <td id=\"T_2de867da_ee98_11e9_ae67_983b8f8b8dbdrow1_col0\" class=\"data row1 col0\" >-4310</td>\n",
       "                        <td id=\"T_2de867da_ee98_11e9_ae67_983b8f8b8dbdrow1_col1\" class=\"data row1 col1\" >133.09</td>\n",
       "                        <td id=\"T_2de867da_ee98_11e9_ae67_983b8f8b8dbdrow1_col2\" class=\"data row1 col2\" >73548</td>\n",
       "                        <td id=\"T_2de867da_ee98_11e9_ae67_983b8f8b8dbdrow1_col3\" class=\"data row1 col3\" >144373</td>\n",
       "                        <td id=\"T_2de867da_ee98_11e9_ae67_983b8f8b8dbdrow1_col4\" class=\"data row1 col4\" >0</td>\n",
       "            </tr>\n",
       "            <tr>\n",
       "                                <td id=\"T_2de867da_ee98_11e9_ae67_983b8f8b8dbdrow2_col0\" class=\"data row2 col0\" >-3246</td>\n",
       "                        <td id=\"T_2de867da_ee98_11e9_ae67_983b8f8b8dbdrow2_col1\" class=\"data row2 col1\" >100.76</td>\n",
       "                        <td id=\"T_2de867da_ee98_11e9_ae67_983b8f8b8dbdrow2_col2\" class=\"data row2 col2\" >77413</td>\n",
       "                        <td id=\"T_2de867da_ee98_11e9_ae67_983b8f8b8dbdrow2_col3\" class=\"data row2 col3\" >98989</td>\n",
       "                        <td id=\"T_2de867da_ee98_11e9_ae67_983b8f8b8dbdrow2_col4\" class=\"data row2 col4\" >0</td>\n",
       "            </tr>\n",
       "            <tr>\n",
       "                                <td id=\"T_2de867da_ee98_11e9_ae67_983b8f8b8dbdrow3_col0\" class=\"data row3 col0\" >-3080</td>\n",
       "                        <td id=\"T_2de867da_ee98_11e9_ae67_983b8f8b8dbdrow3_col1\" class=\"data row3 col1\" >93.52</td>\n",
       "                        <td id=\"T_2de867da_ee98_11e9_ae67_983b8f8b8dbdrow3_col2\" class=\"data row3 col2\" >12768</td>\n",
       "                        <td id=\"T_2de867da_ee98_11e9_ae67_983b8f8b8dbdrow3_col3\" class=\"data row3 col3\" >56666</td>\n",
       "                        <td id=\"T_2de867da_ee98_11e9_ae67_983b8f8b8dbdrow3_col4\" class=\"data row3 col4\" >0</td>\n",
       "            </tr>\n",
       "            <tr>\n",
       "                                <td id=\"T_2de867da_ee98_11e9_ae67_983b8f8b8dbdrow4_col0\" class=\"data row4 col0\" >-3036</td>\n",
       "                        <td id=\"T_2de867da_ee98_11e9_ae67_983b8f8b8dbdrow4_col1\" class=\"data row4 col1\" >97</td>\n",
       "                        <td id=\"T_2de867da_ee98_11e9_ae67_983b8f8b8dbdrow4_col2\" class=\"data row4 col2\" >140580</td>\n",
       "                        <td id=\"T_2de867da_ee98_11e9_ae67_983b8f8b8dbdrow4_col3\" class=\"data row4 col3\" >171108</td>\n",
       "                        <td id=\"T_2de867da_ee98_11e9_ae67_983b8f8b8dbdrow4_col4\" class=\"data row4 col4\" >0</td>\n",
       "            </tr>\n",
       "            <tr>\n",
       "                                <td id=\"T_2de867da_ee98_11e9_ae67_983b8f8b8dbdrow5_col0\" class=\"data row5 col0\" >-3020</td>\n",
       "                        <td id=\"T_2de867da_ee98_11e9_ae67_983b8f8b8dbdrow5_col1\" class=\"data row5 col1\" >91.78</td>\n",
       "                        <td id=\"T_2de867da_ee98_11e9_ae67_983b8f8b8dbdrow5_col2\" class=\"data row5 col2\" >22946</td>\n",
       "                        <td id=\"T_2de867da_ee98_11e9_ae67_983b8f8b8dbdrow5_col3\" class=\"data row5 col3\" >78013</td>\n",
       "                        <td id=\"T_2de867da_ee98_11e9_ae67_983b8f8b8dbdrow5_col4\" class=\"data row5 col4\" >0</td>\n",
       "            </tr>\n",
       "            <tr>\n",
       "                                <td id=\"T_2de867da_ee98_11e9_ae67_983b8f8b8dbdrow6_col0\" class=\"data row6 col0\" >-2560</td>\n",
       "                        <td id=\"T_2de867da_ee98_11e9_ae67_983b8f8b8dbdrow6_col1\" class=\"data row6 col1\" >81.74</td>\n",
       "                        <td id=\"T_2de867da_ee98_11e9_ae67_983b8f8b8dbdrow6_col2\" class=\"data row6 col2\" >92175</td>\n",
       "                        <td id=\"T_2de867da_ee98_11e9_ae67_983b8f8b8dbdrow6_col3\" class=\"data row6 col3\" >132620</td>\n",
       "                        <td id=\"T_2de867da_ee98_11e9_ae67_983b8f8b8dbdrow6_col4\" class=\"data row6 col4\" >0</td>\n",
       "            </tr>\n",
       "            <tr>\n",
       "                                <td id=\"T_2de867da_ee98_11e9_ae67_983b8f8b8dbdrow7_col0\" class=\"data row7 col0\" >-2423</td>\n",
       "                        <td id=\"T_2de867da_ee98_11e9_ae67_983b8f8b8dbdrow7_col1\" class=\"data row7 col1\" >78.73</td>\n",
       "                        <td id=\"T_2de867da_ee98_11e9_ae67_983b8f8b8dbdrow7_col2\" class=\"data row7 col2\" >28028</td>\n",
       "                        <td id=\"T_2de867da_ee98_11e9_ae67_983b8f8b8dbdrow7_col3\" class=\"data row7 col3\" >170978</td>\n",
       "                        <td id=\"T_2de867da_ee98_11e9_ae67_983b8f8b8dbdrow7_col4\" class=\"data row7 col4\" >0</td>\n",
       "            </tr>\n",
       "            <tr>\n",
       "                                <td id=\"T_2de867da_ee98_11e9_ae67_983b8f8b8dbdrow8_col0\" class=\"data row8 col0\" >-2340</td>\n",
       "                        <td id=\"T_2de867da_ee98_11e9_ae67_983b8f8b8dbdrow8_col1\" class=\"data row8 col1\" >77.59</td>\n",
       "                        <td id=\"T_2de867da_ee98_11e9_ae67_983b8f8b8dbdrow8_col2\" class=\"data row8 col2\" >111744</td>\n",
       "                        <td id=\"T_2de867da_ee98_11e9_ae67_983b8f8b8dbdrow8_col3\" class=\"data row8 col3\" >161655</td>\n",
       "                        <td id=\"T_2de867da_ee98_11e9_ae67_983b8f8b8dbdrow8_col4\" class=\"data row8 col4\" >0</td>\n",
       "            </tr>\n",
       "            <tr>\n",
       "                                <td id=\"T_2de867da_ee98_11e9_ae67_983b8f8b8dbdrow9_col0\" class=\"data row9 col0\" >-2189.6</td>\n",
       "                        <td id=\"T_2de867da_ee98_11e9_ae67_983b8f8b8dbdrow9_col1\" class=\"data row9 col1\" >73.64</td>\n",
       "                        <td id=\"T_2de867da_ee98_11e9_ae67_983b8f8b8dbdrow9_col2\" class=\"data row9 col2\" >29274</td>\n",
       "                        <td id=\"T_2de867da_ee98_11e9_ae67_983b8f8b8dbdrow9_col3\" class=\"data row9 col3\" >186567</td>\n",
       "                        <td id=\"T_2de867da_ee98_11e9_ae67_983b8f8b8dbdrow9_col4\" class=\"data row9 col4\" >0</td>\n",
       "            </tr>\n",
       "    </tbody></table>"
      ],
      "text/plain": [
       "<pandas.io.formats.style.Styler at 0x27fb1cb3400>"
      ]
     },
     "execution_count": 19,
     "metadata": {},
     "output_type": "execute_result"
    }
   ],
   "source": [
    "# Identifying biggest clients\n",
    "clients = payments.groupby('Client name').sum()\n",
    "\n",
    "# Previewing (Hiding index for anonymity)\n",
    "clients.sort_values(by='Total $').head(10).style.hide_index()"
   ]
  },
  {
   "cell_type": "markdown",
   "metadata": {},
   "source": [
    "### 6. Visits\n",
    "\n",
    "Identifying:\n",
    "1. How many clients upgraded to subscription?\n",
    "2. How many clients have yet to upgrade to subscription?"
   ]
  },
  {
   "cell_type": "code",
   "execution_count": 20,
   "metadata": {},
   "outputs": [],
   "source": [
    "# Changing dtypes\n",
    "visits['Date'] = pd.to_datetime(visits['Date'])\n",
    "visits['One-off job $'] = visits['One-off job $'].str.replace(',','').astype(float)\n",
    "visits['City'] = visits['City'].str.capitalize()"
   ]
  },
  {
   "cell_type": "code",
   "execution_count": 21,
   "metadata": {},
   "outputs": [],
   "source": [
    "# Separating visits into subscription or non-subscription\n",
    "subscription_visits = visits[visits['Line items'].str.contains('Subscription').replace(np.nan, False)]\n",
    "nonsubscription_visits = visits[~visits['Line items'].str.contains('Subscription').replace(np.nan, False)]\n",
    "\n",
    "# Grouping subscription visits by client (some clients have same name but different addresses)\n",
    "subscription_clients = subscription_visits.groupby(['Client name','Address'])\\\n",
    "    .sum().sort_values(by='Visit based $', ascending=False)\n",
    "\n",
    "# Grouping non-subscription visits by client\n",
    "nonsubscription_clients = nonsubscription_visits.groupby(['Client name','Address'])\\\n",
    "    .sum().sort_values(by='Visit based $', ascending=False)\n",
    "# Removing non-subscription clients who never made a payments\n",
    "nonsubscription_clients = nonsubscription_clients[nonsubscription_clients['Visit based $'] > 0]"
   ]
  },
  {
   "cell_type": "code",
   "execution_count": 22,
   "metadata": {},
   "outputs": [
    {
     "name": "stdout",
     "output_type": "stream",
     "text": [
      "Using visits records, there exist 715 clients.\n",
      "Using visits records, 491 clients are/were subscription clients.\n",
      "Using visits records, 219 clients never have been subscription clients.\n"
     ]
    }
   ],
   "source": [
    "print('Using visits records, there exist {} clients.'\\\n",
    "      .format(len(visits.groupby(['Client name','Address']))))\n",
    "print('Using visits records, {} clients are/were subscription clients.'\\\n",
    "      .format(subscription_clients.shape[0]))\n",
    "print('Using visits records, {} clients never have been subscription clients.'\\\n",
    "      .format(nonsubscription_clients.shape[0]))"
   ]
  },
  {
   "cell_type": "code",
   "execution_count": 23,
   "metadata": {},
   "outputs": [
    {
     "name": "stdout",
     "output_type": "stream",
     "text": [
      "Out of 219 clients who began without subscription, 55 have converted!\n",
      "Out of 219 clients who began without subscription, 164 have yet to be converted.\n"
     ]
    }
   ],
   "source": [
    "# Purifying nonsub client list by removing upgrades\n",
    "unconverted = []\n",
    "for target in nonsubscription_clients.index:\n",
    "    if target not in subscription_clients.index:\n",
    "        unconverted.append(target)\n",
    "\n",
    "# Creating converted sub client list by recording overlap\n",
    "converted = []\n",
    "for target in nonsubscription_clients.index:\n",
    "    if target in subscription_clients.index:\n",
    "        converted.append(target)\n",
    "\n",
    "print('Out of {} clients who began without subscription, {} have converted!' \\\n",
    "      .format(len(nonsubscription_clients.index), len(converted)))\n",
    "print('Out of {} clients who began without subscription, {} have yet to be converted.' \\\n",
    "      .format(len(nonsubscription_clients.index), len(unconverted)))"
   ]
  },
  {
   "cell_type": "markdown",
   "metadata": {},
   "source": [
    "<a id='section-3'></a>\n",
    "## III. Modeling\n",
    "### A. Feature Engineering"
   ]
  },
  {
   "cell_type": "code",
   "execution_count": 24,
   "metadata": {},
   "outputs": [],
   "source": [
    "# Grouping by client and extracting City and ZIP Code\n",
    "to_extract = nonsubscription_visits.groupby(['Client name','Address']).first()"
   ]
  },
  {
   "cell_type": "code",
   "execution_count": 25,
   "metadata": {},
   "outputs": [],
   "source": [
    "# Creating target feature\n",
    "subscribed = []\n",
    "for entry in nonsubscription_clients.index:\n",
    "    if entry in converted:\n",
    "        subscribed.append(True)\n",
    "    else:\n",
    "        subscribed.append(False)\n",
    "        \n",
    "# Creating df and adding target feature\n",
    "model_df = nonsubscription_clients\n",
    "model_df.rename(columns={'Duration':'sum_duration', 'Visit based $':'visit_sum',\n",
    "                        'One-off job $':'one_off_sum','City':'city','ZIP code':'zip'},\n",
    "               inplace=True)\n",
    "\n",
    "# Changing 0 value to median value for sum duration of visits\n",
    "model_df['sum_duration'].replace(0, model_df.sum_duration.median(), inplace=True)\n",
    "\n",
    "# Adding features\n",
    "model_df['total_sum'] = model_df.one_off_sum + model_df.visit_sum\n",
    "model_df['total_div_time'] = model_df['total_sum'] / model_df['sum_duration']\n",
    "model_df = model_df.merge(to_extract[['City','ZIP code']], \n",
    "                          left_index=True, right_index=True)\n",
    "model_df.rename(columns={'City':'city','ZIP code':'zip'}, inplace=True)\n",
    "model_df['converted'] = subscribed"
   ]
  },
  {
   "cell_type": "code",
   "execution_count": 26,
   "metadata": {},
   "outputs": [],
   "source": [
    "# Creating feature dataframe: most frequent clean style\n",
    "add_features = pd.DataFrame(nonsubscription_visits.groupby\\\n",
    "        (['Client name','Address'])['Line items'].agg(pd.Series.mode))\\\n",
    "        .rename(columns={\"Line items\": \"frequent_clean\"})"
   ]
  },
  {
   "cell_type": "code",
   "execution_count": 27,
   "metadata": {},
   "outputs": [],
   "source": [
    "# Adding other features\n",
    "add_features['number_visits'] = nonsubscription_visits.groupby\\\n",
    "        (['Client name','Address'])['Date'].count()\n",
    "add_features['main_cleaner'] = nonsubscription_visits.groupby\\\n",
    "        (['Client name','Address'])['Assigned to'].agg(pd.Series.mode)\n",
    "add_features['first_clean'] = nonsubscription_visits.groupby\\\n",
    "        (['Client name','Address'])['Date'].first()\n",
    "add_features['last_clean'] = nonsubscription_visits.groupby\\\n",
    "        (['Client name','Address'])['Date'].last()\n",
    "add_features['time_span'] = (add_features['last_clean'] - \\\n",
    "        add_features['first_clean']).dt.days"
   ]
  },
  {
   "cell_type": "code",
   "execution_count": 28,
   "metadata": {},
   "outputs": [],
   "source": [
    "# Creating feature to calculate average days between visit\n",
    "dates_data = nonsubscription_visits[['Date','Client name','Address']].copy()\n",
    "dates_data['previous_visit'] = dates_data.groupby(['Client name', 'Address'])['Date'].shift()\n",
    "dates_data['days_bw_visits'] = dates_data['Date'] - dates_data['previous_visit']\n",
    "dates_data['days_bw_visits'] = dates_data['days_bw_visits'].apply(lambda x: x.days)\n",
    "days_bw = dates_data.groupby(['Client name', 'Address'])['days_bw_visits'].agg('mean')\n",
    "\n",
    "# Adding to feature dataframe\n",
    "add_features['days_bw_visits'] = days_bw\n",
    "\n",
    "# Filling NaN values for properties who only had one visit\n",
    "add_features['days_bw_visits'].fillna(0, inplace=True)"
   ]
  },
  {
   "cell_type": "code",
   "execution_count": 29,
   "metadata": {},
   "outputs": [],
   "source": [
    "# Merging features to original model df\n",
    "model_df = model_df.merge(add_features, \n",
    "                          left_index=True, right_index=True)"
   ]
  },
  {
   "cell_type": "code",
   "execution_count": 30,
   "metadata": {},
   "outputs": [],
   "source": [
    "# Adding feature: average total cost per visit\n",
    "model_df['mean_cost_per_vis'] = model_df['total_sum']/model_df['number_visits']"
   ]
  },
  {
   "cell_type": "code",
   "execution_count": 31,
   "metadata": {},
   "outputs": [],
   "source": [
    "# Changing column type with unhashable list to string\n",
    "model_df['main_cleaner'] = model_df['main_cleaner'].astype(str)\n",
    "model_df['frequent_clean'] = model_df['frequent_clean'].astype(str)"
   ]
  },
  {
   "cell_type": "markdown",
   "metadata": {},
   "source": [
    "### B. Clustering"
   ]
  },
  {
   "cell_type": "code",
   "execution_count": 32,
   "metadata": {
    "scrolled": false
   },
   "outputs": [],
   "source": [
    "# Creating dummy variables of categorical\n",
    "model_df_dummies = pd.get_dummies(model_df)\n",
    "\n",
    "# Removing timestamp features for clustering/modeling\n",
    "model_df_dummies.drop(['first_clean','last_clean'], 1, inplace=True)"
   ]
  },
  {
   "cell_type": "code",
   "execution_count": 33,
   "metadata": {
    "scrolled": true
   },
   "outputs": [
    {
     "data": {
      "text/plain": [
       "(219, 107)"
      ]
     },
     "execution_count": 33,
     "metadata": {},
     "output_type": "execute_result"
    }
   ],
   "source": [
    "model_df_dummies.shape"
   ]
  },
  {
   "cell_type": "code",
   "execution_count": 34,
   "metadata": {},
   "outputs": [],
   "source": [
    "# Define the features and the outcome.\n",
    "X = model_df_dummies.drop('converted', axis=1)\n",
    "y = model_df_dummies['converted']\n",
    "\n",
    "# Binarize y so that 1 means unconverted and 0 means converted\n",
    "y = np.where(y > 0, 0, 1)"
   ]
  },
  {
   "cell_type": "code",
   "execution_count": 35,
   "metadata": {},
   "outputs": [],
   "source": [
    "# Normalizing\n",
    "X_norm = normalize(X)\n",
    "\n",
    "# Reduce it to two components.\n",
    "X_pca = PCA(2).fit_transform(X_norm)"
   ]
  },
  {
   "cell_type": "code",
   "execution_count": 36,
   "metadata": {},
   "outputs": [
    {
     "data": {
      "image/png": "[encoded data removed]",
      "text/plain": [
       "<Figure size 504x504 with 1 Axes>"
      ]
     },
     "metadata": {
      "needs_background": "light"
     },
     "output_type": "display_data"
    }
   ],
   "source": [
    "# Creating df for plotting\n",
    "PCA_df = pd.DataFrame(X_pca, columns=['PCA_X','PCA_Y'])\n",
    "PCA_df['target'] = y\n",
    "\n",
    "plt.figure(figsize=[7,7])\n",
    "ax = sns.scatterplot(x=\"PCA_X\", y=\"PCA_Y\", hue=\"target\", alpha=.75, data=PCA_df)\n",
    "plt.title('Visualizing Client Similarities: PCA Reduced')\n",
    "plt.show()"
   ]
  },
  {
   "cell_type": "markdown",
   "metadata": {},
   "source": [
    "With PCA Reduction, we see a potential cluster/line of similar clients in the bottom left that seems to represent a majority of subscription clients with a few non-subscription clients in the mix. This could lead to a few promising subscription clients! This observation seems to be confirmed by KMeans Clustering in its desire to cluster the left overall to subscription and the right overall as non-subscription."
   ]
  },
  {
   "cell_type": "code",
   "execution_count": 37,
   "metadata": {},
   "outputs": [
    {
     "data": {
      "image/png": "[encoded data removed]",
      "text/plain": [
       "<Figure size 432x288 with 1 Axes>"
      ]
     },
     "metadata": {
      "needs_background": "light"
     },
     "output_type": "display_data"
    },
    {
     "name": "stdout",
     "output_type": "stream",
     "text": [
      "Comparing k-means clusters against the data:\n",
      "col_0   0   1\n",
      "row_0        \n",
      "0      23  76\n",
      "1      32  88\n"
     ]
    }
   ],
   "source": [
    "# Calculate predicted values.\n",
    "y_pred = KMeans(n_clusters=2, random_state=42).fit_predict(X_pca)\n",
    "\n",
    "# Plot the solution.\n",
    "plt.scatter(X_pca[:, 0], X_pca[:, 1], c=y_pred)\n",
    "plt.title('K-Means Cluster Prediction')\n",
    "plt.show()\n",
    "\n",
    "# Check the solution against the data.\n",
    "print('Comparing k-means clusters against the data:')\n",
    "print(pd.crosstab(y_pred, y))"
   ]
  },
  {
   "cell_type": "markdown",
   "metadata": {},
   "source": [
    "### C. Cosine Similarity Recommendations\n",
    "#### i. Full Feature Set"
   ]
  },
  {
   "cell_type": "code",
   "execution_count": 38,
   "metadata": {},
   "outputs": [],
   "source": [
    "# Comparing similarities of specific unconverted clients to converted clients as a whole \n",
    "unconverted_dummies = (model_df_dummies[model_df_dummies['converted'] == False]).drop('converted', 1)\n",
    "converted_dummies = (model_df_dummies[model_df_dummies['converted'] == True]).drop('converted', 1)"
   ]
  },
  {
   "cell_type": "code",
   "execution_count": 39,
   "metadata": {},
   "outputs": [],
   "source": [
    "# Implementing model\n",
    "cosine = cosine_similarity(converted_dummies, unconverted_dummies, dense_output=True)\n",
    "# Transposing\n",
    "cosine_trans = cosine.T\n",
    "\n",
    "# Grouping cosines with client names\n",
    "ix = list(unconverted_dummies.index)\n",
    "l = []\n",
    "for elem, index in zip(cosine_trans, ix):\n",
    "    l.append([index, elem.mean()])"
   ]
  },
  {
   "cell_type": "code",
   "execution_count": 40,
   "metadata": {},
   "outputs": [
    {
     "data": {
      "text/html": [
       "<div>\n",
       "<style scoped>\n",
       "    .dataframe tbody tr th:only-of-type {\n",
       "        vertical-align: middle;\n",
       "    }\n",
       "\n",
       "    .dataframe tbody tr th {\n",
       "        vertical-align: top;\n",
       "    }\n",
       "\n",
       "    .dataframe thead th {\n",
       "        text-align: right;\n",
       "    }\n",
       "</style>\n",
       "<table border=\"1\" class=\"dataframe\">\n",
       "  <thead>\n",
       "    <tr style=\"text-align: right;\">\n",
       "      <th></th>\n",
       "      <th>0</th>\n",
       "      <th>1</th>\n",
       "    </tr>\n",
       "  </thead>\n",
       "  <tbody>\n",
       "    <tr>\n",
       "      <th>0</th>\n",
       "      <td>(Jimmy John's 0303, 1101 South Canal Street)</td>\n",
       "      <td>0.921984</td>\n",
       "    </tr>\n",
       "    <tr>\n",
       "      <th>1</th>\n",
       "      <td>(Blue Bird Day School - North Center, 1921 W I...</td>\n",
       "      <td>0.921563</td>\n",
       "    </tr>\n",
       "    <tr>\n",
       "      <th>2</th>\n",
       "      <td>(Jimmy John's 0570, 725 South State Street)</td>\n",
       "      <td>0.921046</td>\n",
       "    </tr>\n",
       "    <tr>\n",
       "      <th>3</th>\n",
       "      <td>(Peppercorns Kitchen, 620 Davis Street)</td>\n",
       "      <td>0.918899</td>\n",
       "    </tr>\n",
       "    <tr>\n",
       "      <th>4</th>\n",
       "      <td>(Publican Quality Bread, 808 West Lake Street)</td>\n",
       "      <td>0.918328</td>\n",
       "    </tr>\n",
       "    <tr>\n",
       "      <th>5</th>\n",
       "      <td>(Bang Bang Pie, 2051 N California Ave)</td>\n",
       "      <td>0.917982</td>\n",
       "    </tr>\n",
       "    <tr>\n",
       "      <th>6</th>\n",
       "      <td>(Crossroads Trading Co. - Wicker Park, 1519 No...</td>\n",
       "      <td>0.917887</td>\n",
       "    </tr>\n",
       "    <tr>\n",
       "      <th>7</th>\n",
       "      <td>(Read It &amp; Eat, 2142 North Halsted Street)</td>\n",
       "      <td>0.917083</td>\n",
       "    </tr>\n",
       "    <tr>\n",
       "      <th>8</th>\n",
       "      <td>(Goldfish Swim School - Evanston, 2008 Dempste...</td>\n",
       "      <td>0.917030</td>\n",
       "    </tr>\n",
       "    <tr>\n",
       "      <th>9</th>\n",
       "      <td>(Crossroads Trading Co. - Evanston, 1730 Sherm...</td>\n",
       "      <td>0.916381</td>\n",
       "    </tr>\n",
       "    <tr>\n",
       "      <th>10</th>\n",
       "      <td>(Kuma's Corner, 2900 W Belmont Ave.)</td>\n",
       "      <td>0.912221</td>\n",
       "    </tr>\n",
       "    <tr>\n",
       "      <th>11</th>\n",
       "      <td>(Rosin Eyecare - Andersonville, 5605 North Cla...</td>\n",
       "      <td>0.911899</td>\n",
       "    </tr>\n",
       "    <tr>\n",
       "      <th>12</th>\n",
       "      <td>(The Publican, 837 West Fulton Market)</td>\n",
       "      <td>0.911194</td>\n",
       "    </tr>\n",
       "    <tr>\n",
       "      <th>13</th>\n",
       "      <td>(Best Care Cleaners, 1623 Chicago Avenue)</td>\n",
       "      <td>0.906795</td>\n",
       "    </tr>\n",
       "    <tr>\n",
       "      <th>14</th>\n",
       "      <td>(Empanadas 5411 - North, 2045 West North Avenue)</td>\n",
       "      <td>0.906665</td>\n",
       "    </tr>\n",
       "    <tr>\n",
       "      <th>15</th>\n",
       "      <td>(Zea Salon, 3707 N Halsted St, Chicago)</td>\n",
       "      <td>0.906663</td>\n",
       "    </tr>\n",
       "    <tr>\n",
       "      <th>16</th>\n",
       "      <td>(Genacelli Salon, 999.5 West Wilson)</td>\n",
       "      <td>0.906088</td>\n",
       "    </tr>\n",
       "    <tr>\n",
       "      <th>17</th>\n",
       "      <td>(Publican Quality Meats, 825 West Fulton Market)</td>\n",
       "      <td>0.905951</td>\n",
       "    </tr>\n",
       "    <tr>\n",
       "      <th>18</th>\n",
       "      <td>(Jeong, 1460 W. Chicago Ave)</td>\n",
       "      <td>0.905050</td>\n",
       "    </tr>\n",
       "    <tr>\n",
       "      <th>19</th>\n",
       "      <td>(Tabula Tua, 1015 W Armitage)</td>\n",
       "      <td>0.904105</td>\n",
       "    </tr>\n",
       "    <tr>\n",
       "      <th>20</th>\n",
       "      <td>(Jimmy John's 0492, 1148 West Wilson Avenue)</td>\n",
       "      <td>0.902293</td>\n",
       "    </tr>\n",
       "    <tr>\n",
       "      <th>21</th>\n",
       "      <td>(Zen Yoga Garage 2, 1824 N. Milwaukee Ave.)</td>\n",
       "      <td>0.901712</td>\n",
       "    </tr>\n",
       "    <tr>\n",
       "      <th>22</th>\n",
       "      <td>(Vans #386, 4999 Old Orchard Center)</td>\n",
       "      <td>0.901444</td>\n",
       "    </tr>\n",
       "    <tr>\n",
       "      <th>23</th>\n",
       "      <td>(Blake Designer Store, 212 W. Chicago Ave.)</td>\n",
       "      <td>0.901403</td>\n",
       "    </tr>\n",
       "    <tr>\n",
       "      <th>24</th>\n",
       "      <td>(Hannah's Bretzel - Monroe, 555 West Monroe St...</td>\n",
       "      <td>0.901271</td>\n",
       "    </tr>\n",
       "    <tr>\n",
       "      <th>25</th>\n",
       "      <td>(Channing Studio Spa, 67 E. Oak Street)</td>\n",
       "      <td>0.900901</td>\n",
       "    </tr>\n",
       "    <tr>\n",
       "      <th>26</th>\n",
       "      <td>(Bliss &amp; Belle Boutique, 1011 W. Armitage Ave.)</td>\n",
       "      <td>0.900822</td>\n",
       "    </tr>\n",
       "    <tr>\n",
       "      <th>27</th>\n",
       "      <td>(Cortland Smiles Chicago, 1649 West Cortland S...</td>\n",
       "      <td>0.900774</td>\n",
       "    </tr>\n",
       "    <tr>\n",
       "      <th>28</th>\n",
       "      <td>(Christofle, 40 E. Oak Street)</td>\n",
       "      <td>0.900654</td>\n",
       "    </tr>\n",
       "    <tr>\n",
       "      <th>29</th>\n",
       "      <td>(Pet Supplies Plus 4120, 1916 Dempster Street)</td>\n",
       "      <td>0.900649</td>\n",
       "    </tr>\n",
       "    <tr>\n",
       "      <th>30</th>\n",
       "      <td>(Suvarna Chiropractic - Southport, 3453 N Sout...</td>\n",
       "      <td>0.900541</td>\n",
       "    </tr>\n",
       "    <tr>\n",
       "      <th>31</th>\n",
       "      <td>(J9 Wine Bar, 1961 N. Halsted St.)</td>\n",
       "      <td>0.900536</td>\n",
       "    </tr>\n",
       "    <tr>\n",
       "      <th>32</th>\n",
       "      <td>(Jimmy Johns 1033, 3520 W. Lake St.)</td>\n",
       "      <td>0.900393</td>\n",
       "    </tr>\n",
       "    <tr>\n",
       "      <th>33</th>\n",
       "      <td>(Panino's Cafe &amp; Bar, 1968 Dempster Street)</td>\n",
       "      <td>0.900308</td>\n",
       "    </tr>\n",
       "    <tr>\n",
       "      <th>34</th>\n",
       "      <td>(Dry Hop Brewers, 3155 North Broadway Street)</td>\n",
       "      <td>0.900265</td>\n",
       "    </tr>\n",
       "  </tbody>\n",
       "</table>\n",
       "</div>"
      ],
      "text/plain": [
       "                                                    0         1\n",
       "0        (Jimmy John's 0303, 1101 South Canal Street)  0.921984\n",
       "1   (Blue Bird Day School - North Center, 1921 W I...  0.921563\n",
       "2         (Jimmy John's 0570, 725 South State Street)  0.921046\n",
       "3             (Peppercorns Kitchen, 620 Davis Street)  0.918899\n",
       "4      (Publican Quality Bread, 808 West Lake Street)  0.918328\n",
       "5              (Bang Bang Pie, 2051 N California Ave)  0.917982\n",
       "6   (Crossroads Trading Co. - Wicker Park, 1519 No...  0.917887\n",
       "7          (Read It & Eat, 2142 North Halsted Street)  0.917083\n",
       "8   (Goldfish Swim School - Evanston, 2008 Dempste...  0.917030\n",
       "9   (Crossroads Trading Co. - Evanston, 1730 Sherm...  0.916381\n",
       "10               (Kuma's Corner, 2900 W Belmont Ave.)  0.912221\n",
       "11  (Rosin Eyecare - Andersonville, 5605 North Cla...  0.911899\n",
       "12             (The Publican, 837 West Fulton Market)  0.911194\n",
       "13          (Best Care Cleaners, 1623 Chicago Avenue)  0.906795\n",
       "14   (Empanadas 5411 - North, 2045 West North Avenue)  0.906665\n",
       "15            (Zea Salon, 3707 N Halsted St, Chicago)  0.906663\n",
       "16               (Genacelli Salon, 999.5 West Wilson)  0.906088\n",
       "17   (Publican Quality Meats, 825 West Fulton Market)  0.905951\n",
       "18                       (Jeong, 1460 W. Chicago Ave)  0.905050\n",
       "19                      (Tabula Tua, 1015 W Armitage)  0.904105\n",
       "20       (Jimmy John's 0492, 1148 West Wilson Avenue)  0.902293\n",
       "21        (Zen Yoga Garage 2, 1824 N. Milwaukee Ave.)  0.901712\n",
       "22               (Vans #386, 4999 Old Orchard Center)  0.901444\n",
       "23        (Blake Designer Store, 212 W. Chicago Ave.)  0.901403\n",
       "24  (Hannah's Bretzel - Monroe, 555 West Monroe St...  0.901271\n",
       "25            (Channing Studio Spa, 67 E. Oak Street)  0.900901\n",
       "26    (Bliss & Belle Boutique, 1011 W. Armitage Ave.)  0.900822\n",
       "27  (Cortland Smiles Chicago, 1649 West Cortland S...  0.900774\n",
       "28                     (Christofle, 40 E. Oak Street)  0.900654\n",
       "29     (Pet Supplies Plus 4120, 1916 Dempster Street)  0.900649\n",
       "30  (Suvarna Chiropractic - Southport, 3453 N Sout...  0.900541\n",
       "31                 (J9 Wine Bar, 1961 N. Halsted St.)  0.900536\n",
       "32               (Jimmy Johns 1033, 3520 W. Lake St.)  0.900393\n",
       "33        (Panino's Cafe & Bar, 1968 Dempster Street)  0.900308\n",
       "34      (Dry Hop Brewers, 3155 North Broadway Street)  0.900265"
      ]
     },
     "execution_count": 40,
     "metadata": {},
     "output_type": "execute_result"
    }
   ],
   "source": [
    "# Previewing\n",
    "client_similarities = pd.DataFrame(l)\n",
    "client_similarities = client_similarities.sort_values\\\n",
    "    (by=1, ascending=False).reset_index(drop=True)\n",
    "client_similarities[client_similarities[1] > .90]"
   ]
  },
  {
   "cell_type": "markdown",
   "metadata": {},
   "source": [
    "#### ii. Reduced Feature Set\n",
    "This new feature set will be used to verify the similarities above by removing potentially insidious features that might not have an affect (or hinder prediction) on the end result (due to their sparsity); these features are `main_cleaner` and `frequent_clean`."
   ]
  },
  {
   "cell_type": "code",
   "execution_count": 41,
   "metadata": {},
   "outputs": [],
   "source": [
    "# Creating reduced feature DF\n",
    "qa_1 = model_df.drop(['first_clean','last_clean','main_cleaner','frequent_clean'], 1)\n",
    "qa_1 = pd.get_dummies(qa_1)\n",
    "\n",
    "# Separating converted/unconverted clients for comparison\n",
    "unconverted_qa_1 = (qa_1[qa_1['converted'] == False]).drop('converted', 1)\n",
    "converted_qa_1 = (qa_1[qa_1['converted'] == True]).drop('converted', 1)"
   ]
  },
  {
   "cell_type": "code",
   "execution_count": 42,
   "metadata": {},
   "outputs": [],
   "source": [
    "# Implementing model\n",
    "cosine_2 = cosine_similarity(converted_qa_1, unconverted_qa_1, dense_output=True)\n",
    "cosine_trans_2 = cosine_2.T\n",
    "\n",
    "# Grouping cosines with client names\n",
    "ix_2 = list(unconverted_qa_1.index)\n",
    "l_2 = []\n",
    "for elem, index in zip(cosine_trans_2, ix_2):\n",
    "    l_2.append([index, elem.mean()])"
   ]
  },
  {
   "cell_type": "code",
   "execution_count": 43,
   "metadata": {},
   "outputs": [
    {
     "data": {
      "text/html": [
       "<div>\n",
       "<style scoped>\n",
       "    .dataframe tbody tr th:only-of-type {\n",
       "        vertical-align: middle;\n",
       "    }\n",
       "\n",
       "    .dataframe tbody tr th {\n",
       "        vertical-align: top;\n",
       "    }\n",
       "\n",
       "    .dataframe thead th {\n",
       "        text-align: right;\n",
       "    }\n",
       "</style>\n",
       "<table border=\"1\" class=\"dataframe\">\n",
       "  <thead>\n",
       "    <tr style=\"text-align: right;\">\n",
       "      <th></th>\n",
       "      <th>0</th>\n",
       "      <th>1</th>\n",
       "    </tr>\n",
       "  </thead>\n",
       "  <tbody>\n",
       "    <tr>\n",
       "      <th>0</th>\n",
       "      <td>(Jimmy John's 0303, 1101 South Canal Street)</td>\n",
       "      <td>0.922007</td>\n",
       "    </tr>\n",
       "    <tr>\n",
       "      <th>1</th>\n",
       "      <td>(Blue Bird Day School - North Center, 1921 W I...</td>\n",
       "      <td>0.921593</td>\n",
       "    </tr>\n",
       "    <tr>\n",
       "      <th>2</th>\n",
       "      <td>(Jimmy John's 0570, 725 South State Street)</td>\n",
       "      <td>0.921067</td>\n",
       "    </tr>\n",
       "    <tr>\n",
       "      <th>3</th>\n",
       "      <td>(Peppercorns Kitchen, 620 Davis Street)</td>\n",
       "      <td>0.918921</td>\n",
       "    </tr>\n",
       "    <tr>\n",
       "      <th>4</th>\n",
       "      <td>(Publican Quality Bread, 808 West Lake Street)</td>\n",
       "      <td>0.918350</td>\n",
       "    </tr>\n",
       "    <tr>\n",
       "      <th>5</th>\n",
       "      <td>(Bang Bang Pie, 2051 N California Ave)</td>\n",
       "      <td>0.918004</td>\n",
       "    </tr>\n",
       "    <tr>\n",
       "      <th>6</th>\n",
       "      <td>(Crossroads Trading Co. - Wicker Park, 1519 No...</td>\n",
       "      <td>0.917909</td>\n",
       "    </tr>\n",
       "    <tr>\n",
       "      <th>7</th>\n",
       "      <td>(Read It &amp; Eat, 2142 North Halsted Street)</td>\n",
       "      <td>0.917106</td>\n",
       "    </tr>\n",
       "    <tr>\n",
       "      <th>8</th>\n",
       "      <td>(Goldfish Swim School - Evanston, 2008 Dempste...</td>\n",
       "      <td>0.917051</td>\n",
       "    </tr>\n",
       "    <tr>\n",
       "      <th>9</th>\n",
       "      <td>(Crossroads Trading Co. - Evanston, 1730 Sherm...</td>\n",
       "      <td>0.916403</td>\n",
       "    </tr>\n",
       "    <tr>\n",
       "      <th>10</th>\n",
       "      <td>(Kuma's Corner, 2900 W Belmont Ave.)</td>\n",
       "      <td>0.912243</td>\n",
       "    </tr>\n",
       "    <tr>\n",
       "      <th>11</th>\n",
       "      <td>(Rosin Eyecare - Andersonville, 5605 North Cla...</td>\n",
       "      <td>0.911921</td>\n",
       "    </tr>\n",
       "    <tr>\n",
       "      <th>12</th>\n",
       "      <td>(The Publican, 837 West Fulton Market)</td>\n",
       "      <td>0.911216</td>\n",
       "    </tr>\n",
       "    <tr>\n",
       "      <th>13</th>\n",
       "      <td>(Best Care Cleaners, 1623 Chicago Avenue)</td>\n",
       "      <td>0.906817</td>\n",
       "    </tr>\n",
       "    <tr>\n",
       "      <th>14</th>\n",
       "      <td>(Empanadas 5411 - North, 2045 West North Avenue)</td>\n",
       "      <td>0.906686</td>\n",
       "    </tr>\n",
       "    <tr>\n",
       "      <th>15</th>\n",
       "      <td>(Zea Salon, 3707 N Halsted St, Chicago)</td>\n",
       "      <td>0.906684</td>\n",
       "    </tr>\n",
       "    <tr>\n",
       "      <th>16</th>\n",
       "      <td>(Genacelli Salon, 999.5 West Wilson)</td>\n",
       "      <td>0.906109</td>\n",
       "    </tr>\n",
       "    <tr>\n",
       "      <th>17</th>\n",
       "      <td>(Publican Quality Meats, 825 West Fulton Market)</td>\n",
       "      <td>0.905973</td>\n",
       "    </tr>\n",
       "    <tr>\n",
       "      <th>18</th>\n",
       "      <td>(Jeong, 1460 W. Chicago Ave)</td>\n",
       "      <td>0.905072</td>\n",
       "    </tr>\n",
       "    <tr>\n",
       "      <th>19</th>\n",
       "      <td>(Tabula Tua, 1015 W Armitage)</td>\n",
       "      <td>0.904137</td>\n",
       "    </tr>\n",
       "    <tr>\n",
       "      <th>20</th>\n",
       "      <td>(Jimmy John's 0492, 1148 West Wilson Avenue)</td>\n",
       "      <td>0.902314</td>\n",
       "    </tr>\n",
       "    <tr>\n",
       "      <th>21</th>\n",
       "      <td>(Zen Yoga Garage 2, 1824 N. Milwaukee Ave.)</td>\n",
       "      <td>0.901740</td>\n",
       "    </tr>\n",
       "    <tr>\n",
       "      <th>22</th>\n",
       "      <td>(Vans #386, 4999 Old Orchard Center)</td>\n",
       "      <td>0.901468</td>\n",
       "    </tr>\n",
       "    <tr>\n",
       "      <th>23</th>\n",
       "      <td>(Blake Designer Store, 212 W. Chicago Ave.)</td>\n",
       "      <td>0.901428</td>\n",
       "    </tr>\n",
       "    <tr>\n",
       "      <th>24</th>\n",
       "      <td>(Hannah's Bretzel - Monroe, 555 West Monroe St...</td>\n",
       "      <td>0.901294</td>\n",
       "    </tr>\n",
       "    <tr>\n",
       "      <th>25</th>\n",
       "      <td>(Channing Studio Spa, 67 E. Oak Street)</td>\n",
       "      <td>0.900925</td>\n",
       "    </tr>\n",
       "    <tr>\n",
       "      <th>26</th>\n",
       "      <td>(Bliss &amp; Belle Boutique, 1011 W. Armitage Ave.)</td>\n",
       "      <td>0.900847</td>\n",
       "    </tr>\n",
       "    <tr>\n",
       "      <th>27</th>\n",
       "      <td>(Cortland Smiles Chicago, 1649 West Cortland S...</td>\n",
       "      <td>0.900798</td>\n",
       "    </tr>\n",
       "    <tr>\n",
       "      <th>28</th>\n",
       "      <td>(Christofle, 40 E. Oak Street)</td>\n",
       "      <td>0.900676</td>\n",
       "    </tr>\n",
       "    <tr>\n",
       "      <th>29</th>\n",
       "      <td>(Pet Supplies Plus 4120, 1916 Dempster Street)</td>\n",
       "      <td>0.900672</td>\n",
       "    </tr>\n",
       "    <tr>\n",
       "      <th>30</th>\n",
       "      <td>(Suvarna Chiropractic - Southport, 3453 N Sout...</td>\n",
       "      <td>0.900566</td>\n",
       "    </tr>\n",
       "    <tr>\n",
       "      <th>31</th>\n",
       "      <td>(J9 Wine Bar, 1961 N. Halsted St.)</td>\n",
       "      <td>0.900558</td>\n",
       "    </tr>\n",
       "    <tr>\n",
       "      <th>32</th>\n",
       "      <td>(Jimmy Johns 1033, 3520 W. Lake St.)</td>\n",
       "      <td>0.900418</td>\n",
       "    </tr>\n",
       "    <tr>\n",
       "      <th>33</th>\n",
       "      <td>(Panino's Cafe &amp; Bar, 1968 Dempster Street)</td>\n",
       "      <td>0.900330</td>\n",
       "    </tr>\n",
       "    <tr>\n",
       "      <th>34</th>\n",
       "      <td>(Dry Hop Brewers, 3155 North Broadway Street)</td>\n",
       "      <td>0.900287</td>\n",
       "    </tr>\n",
       "  </tbody>\n",
       "</table>\n",
       "</div>"
      ],
      "text/plain": [
       "                                                    0         1\n",
       "0        (Jimmy John's 0303, 1101 South Canal Street)  0.922007\n",
       "1   (Blue Bird Day School - North Center, 1921 W I...  0.921593\n",
       "2         (Jimmy John's 0570, 725 South State Street)  0.921067\n",
       "3             (Peppercorns Kitchen, 620 Davis Street)  0.918921\n",
       "4      (Publican Quality Bread, 808 West Lake Street)  0.918350\n",
       "5              (Bang Bang Pie, 2051 N California Ave)  0.918004\n",
       "6   (Crossroads Trading Co. - Wicker Park, 1519 No...  0.917909\n",
       "7          (Read It & Eat, 2142 North Halsted Street)  0.917106\n",
       "8   (Goldfish Swim School - Evanston, 2008 Dempste...  0.917051\n",
       "9   (Crossroads Trading Co. - Evanston, 1730 Sherm...  0.916403\n",
       "10               (Kuma's Corner, 2900 W Belmont Ave.)  0.912243\n",
       "11  (Rosin Eyecare - Andersonville, 5605 North Cla...  0.911921\n",
       "12             (The Publican, 837 West Fulton Market)  0.911216\n",
       "13          (Best Care Cleaners, 1623 Chicago Avenue)  0.906817\n",
       "14   (Empanadas 5411 - North, 2045 West North Avenue)  0.906686\n",
       "15            (Zea Salon, 3707 N Halsted St, Chicago)  0.906684\n",
       "16               (Genacelli Salon, 999.5 West Wilson)  0.906109\n",
       "17   (Publican Quality Meats, 825 West Fulton Market)  0.905973\n",
       "18                       (Jeong, 1460 W. Chicago Ave)  0.905072\n",
       "19                      (Tabula Tua, 1015 W Armitage)  0.904137\n",
       "20       (Jimmy John's 0492, 1148 West Wilson Avenue)  0.902314\n",
       "21        (Zen Yoga Garage 2, 1824 N. Milwaukee Ave.)  0.901740\n",
       "22               (Vans #386, 4999 Old Orchard Center)  0.901468\n",
       "23        (Blake Designer Store, 212 W. Chicago Ave.)  0.901428\n",
       "24  (Hannah's Bretzel - Monroe, 555 West Monroe St...  0.901294\n",
       "25            (Channing Studio Spa, 67 E. Oak Street)  0.900925\n",
       "26    (Bliss & Belle Boutique, 1011 W. Armitage Ave.)  0.900847\n",
       "27  (Cortland Smiles Chicago, 1649 West Cortland S...  0.900798\n",
       "28                     (Christofle, 40 E. Oak Street)  0.900676\n",
       "29     (Pet Supplies Plus 4120, 1916 Dempster Street)  0.900672\n",
       "30  (Suvarna Chiropractic - Southport, 3453 N Sout...  0.900566\n",
       "31                 (J9 Wine Bar, 1961 N. Halsted St.)  0.900558\n",
       "32               (Jimmy Johns 1033, 3520 W. Lake St.)  0.900418\n",
       "33        (Panino's Cafe & Bar, 1968 Dempster Street)  0.900330\n",
       "34      (Dry Hop Brewers, 3155 North Broadway Street)  0.900287"
      ]
     },
     "execution_count": 43,
     "metadata": {},
     "output_type": "execute_result"
    }
   ],
   "source": [
    "# Previewing and verifing\n",
    "qa_1_client_similarities = pd.DataFrame(l_2)\n",
    "qa_1_client_similarities = qa_1_client_similarities.sort_values\\\n",
    "    (by=1, ascending=False).reset_index(drop=True)\n",
    "qa_1_client_similarities[qa_1_client_similarities[1] > .90]"
   ]
  },
  {
   "cell_type": "markdown",
   "metadata": {},
   "source": [
    "The top 10 clients in both cosine similarities are the same, giving confidence to our initial prediction that used the full feature set."
   ]
  },
  {
   "cell_type": "markdown",
   "metadata": {},
   "source": [
    "<a id='section-4'></a>\n",
    "## IV. Conclusion"
   ]
  },
  {
   "cell_type": "markdown",
   "metadata": {},
   "source": [
    "The list below contains the 20 clients most likely to upsell to subscription clients based on the features used. The reason for identifying these potential subscription clients is that subscriptions provide predictable transactions, more frequent visits (consequently, with higher revenue), and even greater visibility."
   ]
  },
  {
   "cell_type": "code",
   "execution_count": 44,
   "metadata": {},
   "outputs": [
    {
     "data": {
      "text/plain": [
       "[(\"Jimmy John's 0303\", '1101 South Canal Street'),\n",
       " ('Blue Bird Day School - North Center', '1921 W Irving Park Rd'),\n",
       " (\"Jimmy John's 0570\", '725 South State Street'),\n",
       " ('Peppercorns Kitchen', '620 Davis Street'),\n",
       " ('Publican Quality Bread', '808 West Lake Street'),\n",
       " ('Bang Bang Pie', '2051 N California Ave'),\n",
       " ('Crossroads Trading Co. - Wicker Park', '1519 North Milwaukee Avenue'),\n",
       " ('Read It & Eat', '2142 North Halsted Street'),\n",
       " ('Goldfish Swim School - Evanston', '2008 Dempster Street'),\n",
       " ('Crossroads Trading Co. - Evanston', '1730 Sherman Avenue'),\n",
       " (\"Kuma's Corner\", '2900 W Belmont Ave.'),\n",
       " ('Rosin Eyecare - Andersonville', '5605 North Clark Street'),\n",
       " ('The Publican', '837 West Fulton Market'),\n",
       " ('Best Care Cleaners', '1623 Chicago Avenue'),\n",
       " ('Empanadas 5411 - North', '2045 West North Avenue'),\n",
       " ('Zea Salon', '3707 N Halsted St, Chicago'),\n",
       " ('Genacelli Salon', '999.5 West Wilson'),\n",
       " ('Publican Quality Meats', '825 West Fulton Market'),\n",
       " ('Jeong', '1460 W. Chicago Ave'),\n",
       " ('Tabula Tua', '1015 W Armitage'),\n",
       " (\"Jimmy John's 0492\", '1148 West Wilson Avenue'),\n",
       " ('Zen Yoga Garage 2', '1824 N. Milwaukee Ave.'),\n",
       " ('Vans #386', '4999 Old Orchard Center'),\n",
       " ('Blake Designer Store', '212 W. Chicago Ave.'),\n",
       " (\"Hannah's Bretzel - Monroe\", '555 West Monroe Street'),\n",
       " ('Channing Studio Spa', '67 E. Oak Street'),\n",
       " ('Bliss & Belle Boutique', '1011 W. Armitage Ave.'),\n",
       " ('Cortland Smiles Chicago', '1649 West Cortland Street'),\n",
       " ('Christofle', '40 E. Oak Street'),\n",
       " ('Pet Supplies Plus 4120', '1916 Dempster Street'),\n",
       " ('Suvarna Chiropractic - Southport', '3453 N Southport Ave'),\n",
       " ('J9 Wine Bar', '1961 N. Halsted St.'),\n",
       " ('Jimmy Johns 1033', '3520 W. Lake St.'),\n",
       " (\"Panino's Cafe & Bar\", '1968 Dempster Street'),\n",
       " ('Dry Hop Brewers', '3155 North Broadway Street')]"
      ]
     },
     "execution_count": 44,
     "metadata": {},
     "output_type": "execute_result"
    }
   ],
   "source": [
    "list(client_similarities[client_similarities[1] > .9][0])"
   ]
  },
  {
   "cell_type": "code",
   "execution_count": 45,
   "metadata": {},
   "outputs": [
    {
     "name": "stdout",
     "output_type": "stream",
     "text": [
      "Median cost of unconverted client visit: 371.5\n",
      "Median cost of converted client visit: 350.0\n"
     ]
    }
   ],
   "source": [
    "unconv_sum = unconverted_dummies['total_sum'].median()\n",
    "conv_sum = converted_dummies['total_sum'].median()\n",
    "print('Median cost of unconverted client visit: {}'.format(unconv_sum))\n",
    "print('Median cost of converted client visit: {}'.format(conv_sum))"
   ]
  },
  {
   "cell_type": "code",
   "execution_count": 46,
   "metadata": {},
   "outputs": [
    {
     "data": {
      "image/png": "[encoded data removed]",
      "text/plain": [
       "<Figure size 432x288 with 1 Axes>"
      ]
     },
     "metadata": {
      "needs_background": "light"
     },
     "output_type": "display_data"
    },
    {
     "data": {
      "image/png": "[encoded data removed]",
      "text/plain": [
       "<Figure size 432x288 with 1 Axes>"
      ]
     },
     "metadata": {
      "needs_background": "light"
     },
     "output_type": "display_data"
    }
   ],
   "source": [
    "# Viewing distributions\n",
    "sns.distplot(converted_dummies['total_sum'])\n",
    "plt.title('Total Sum per Unconverted Client')\n",
    "plt.show()\n",
    "sns.distplot(unconverted_dummies['total_sum'])\n",
    "plt.title('Total Sum per Converted Client')\n",
    "plt.show()"
   ]
  },
  {
   "cell_type": "code",
   "execution_count": 47,
   "metadata": {},
   "outputs": [
    {
     "name": "stdout",
     "output_type": "stream",
     "text": [
      "Median days between visits for unconverted client: 15.873188405797102\n",
      "Median days between visits for converted client: 16.375\n"
     ]
    }
   ],
   "source": [
    "unconv_days = unconverted_dummies['days_bw_visits'].median()\n",
    "conv_days = converted_dummies['days_bw_visits'].median()\n",
    "print('Median days between visits for unconverted client: {}'.format(unconv_days))\n",
    "print('Median days between visits for converted client: {}'.format(conv_days))"
   ]
  },
  {
   "cell_type": "code",
   "execution_count": 48,
   "metadata": {},
   "outputs": [
    {
     "data": {
      "image/png": "[encoded data removed]",
      "text/plain": [
       "<Figure size 432x288 with 1 Axes>"
      ]
     },
     "metadata": {
      "needs_background": "light"
     },
     "output_type": "display_data"
    },
    {
     "data": {
      "image/png": "[encoded data removed]",
      "text/plain": [
       "<Figure size 432x288 with 1 Axes>"
      ]
     },
     "metadata": {
      "needs_background": "light"
     },
     "output_type": "display_data"
    }
   ],
   "source": [
    "# Viewing distributions\n",
    "sns.distplot(converted_dummies['days_bw_visits'])\n",
    "plt.title('Average Days Between Visits per Unconverted Client')\n",
    "plt.show()\n",
    "sns.distplot(unconverted_dummies['days_bw_visits'])\n",
    "plt.title('Average Days Between Visits per Converted Client')\n",
    "plt.show()"
   ]
  },
  {
   "cell_type": "markdown",
   "metadata": {},
   "source": [
    "## Addendum"
   ]
  },
  {
   "cell_type": "code",
   "execution_count": 49,
   "metadata": {
    "scrolled": false
   },
   "outputs": [],
   "source": [
    "# Full client preview list in order of cosine similarity (removed for anonymity)\n",
    "#with pd.option_context('display.max_rows', None, 'display.max_columns', None):\n",
    "#    display(client_similarities)"
   ]
  }
 ],
 "metadata": {
  "kernelspec": {
   "display_name": "Python 3",
   "language": "python",
   "name": "python3"
  },
  "language_info": {
   "codemirror_mode": {
    "name": "ipython",
    "version": 3
   },
   "file_extension": ".py",
   "mimetype": "text/x-python",
   "name": "python",
   "nbconvert_exporter": "python",
   "pygments_lexer": "ipython3",
   "version": "3.7.3"
  }
 },
 "nbformat": 4,
 "nbformat_minor": 2
}
